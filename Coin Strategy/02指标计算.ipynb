{
 "cells": [
  {
   "cell_type": "code",
   "execution_count": 1,
   "metadata": {},
   "outputs": [],
   "source": [
    "def calculate_dc(klines, period=20):\n",
    "    \"\"\"\n",
    "    计算 Donchian Channel (DC)\n",
    "    :param klines: 数据帧，包含 'High' 和 'Low' 列\n",
    "    :param period: 周期（默认20）\n",
    "    :return: 包含DC Upper, DC Lower 和 DC Middle的 DataFrame\n",
    "    \"\"\"\n",
    "    klines['DC_Upper'] = klines['High'].rolling(window=period).max()\n",
    "    klines['DC_Lower'] = klines['Low'].rolling(window=period).min()\n",
    "    klines['DC_Middle'] = (klines['DC_Upper'] + klines['DC_Lower']) / 2\n",
    "    return klines[['DC_Upper', 'DC_Lower', 'DC_Middle']]"
   ]
  },
  {
   "cell_type": "code",
   "execution_count": 2,
   "metadata": {},
   "outputs": [],
   "source": [
    "def calculate_kc(klines, period=20, multiplier=1):\n",
    "    \"\"\"\n",
    "    计算 Keltner Channel (KC)\n",
    "    :param klines: 数据帧，包含 'Close', 'High', 'Low' 列\n",
    "    :param period: 周期（默认20）\n",
    "    :param multiplier: ATR的乘数（默认1）\n",
    "    :return: 包含KC Upper, KC Lower 和 KC Middle的 DataFrame\n",
    "    \"\"\"\n",
    "    klines['EMA'] = klines['Close'].ewm(span=period, adjust=False).mean()\n",
    "    klines['ATR'] = klines['High'].combine(klines['Low'], max) - klines['Close'].combine(klines['Low'], min)\n",
    "    klines['ATR'] = klines['ATR'].rolling(window=period).mean()\n",
    "    \n",
    "    klines['KC_Upper'] = klines['EMA'] + multiplier * klines['ATR']\n",
    "    klines['KC_Lower'] = klines['EMA'] - multiplier * klines['ATR']\n",
    "    klines['KC_Middle'] = klines['EMA']\n",
    "    return klines[['KC_Upper', 'KC_Lower', 'KC_Middle']]"
   ]
  },
  {
   "cell_type": "code",
   "execution_count": 3,
   "metadata": {},
   "outputs": [],
   "source": [
    "def calculate_ichimoku(klines, conversion_line_period=9, base_line_period=26, leading_span_b_period=52):\n",
    "    \"\"\"\n",
    "    计算 Ichimoku Cloud (一目均衡图)\n",
    "    :param klines: 数据帧，包含 'High' 和 'Low' 列\n",
    "    :param conversion_line_period: 转换线周期（默认9）\n",
    "    :param base_line_period: 基准线周期（默认26）\n",
    "    :param leading_span_b_period: 领先跨度B周期（默认52）\n",
    "    :return: 包含所有Ichimoku指标的 DataFrame\n",
    "    \"\"\"\n",
    "    klines['Tenkan_Sen'] = (klines['High'].rolling(window=conversion_line_period).max() + klines['Low'].rolling(window=conversion_line_period).min()) / 2\n",
    "    klines['Kijun_Sen'] = (klines['High'].rolling(window=base_line_period).max() + klines['Low'].rolling(window=base_line_period).min()) / 2\n",
    "    klines['Senkou_Span_A'] = (klines['Tenkan_Sen'] + klines['Kijun_Sen']) / 2\n",
    "    klines['Senkou_Span_B'] = (klines['High'].rolling(window=leading_span_b_period).max() + klines['Low'].rolling(window=leading_span_b_period).min()) / 2\n",
    "    klines['Chikou_Span'] = klines['Close'].shift(-base_line_period)\n",
    "    \n",
    "    return klines[['Tenkan_Sen', 'Kijun_Sen', 'Senkou_Span_A', 'Senkou_Span_B', 'Chikou_Span']]"
   ]
  },
  {
   "cell_type": "code",
   "execution_count": 4,
   "metadata": {},
   "outputs": [],
   "source": [
    "def calculate_ema(klines, period=13):\n",
    "    \"\"\"\n",
    "    计算 Exponential Moving Average (EMA)\n",
    "    :param klines: 数据帧，包含 'Close' 列\n",
    "    :param period: 周期（默认13）\n",
    "    :return: 包含EMA的 DataFrame\n",
    "    \"\"\"\n",
    "    klines[f'EMA_{period}'] = klines['Close'].ewm(span=period, adjust=False).mean()\n",
    "    return klines[[f'EMA_{period}']]"
   ]
  },
  {
   "cell_type": "code",
   "execution_count": 5,
   "metadata": {},
   "outputs": [],
   "source": [
    "def calculate_ma(klines, period=7):\n",
    "    \"\"\"\n",
    "    计算 Simple Moving Average (MA)\n",
    "    :param klines: 数据帧，包含 'Close' 列\n",
    "    :param period: 周期（默认7）\n",
    "    :return: 包含MA的 DataFrame\n",
    "    \"\"\"\n",
    "    klines[f'MA_{period}'] = klines['Close'].rolling(window=period).mean()\n",
    "    return klines[[f'MA_{period}']]"
   ]
  },
  {
   "cell_type": "code",
   "execution_count": 6,
   "metadata": {},
   "outputs": [],
   "source": [
    "def calculate_kdj(klines, k_period=14, d_period=3, j_period=3):\n",
    "    \"\"\"\n",
    "    计算 Stochastic Oscillator (KDJ)\n",
    "    :param klines: 数据帧，包含 'Close', 'High', 'Low' 列\n",
    "    :param k_period: %K的周期（默认14）\n",
    "    :param d_period: %D的周期（默认3）\n",
    "    :param j_period: %J的周期（默认3）\n",
    "    :return: 包含K, D, J的 DataFrame\n",
    "    \"\"\"\n",
    "    low_min = klines['Low'].rolling(window=k_period).min()\n",
    "    high_max = klines['High'].rolling(window=k_period).max()\n",
    "    klines['K'] = 100 * (klines['Close'] - low_min) / (high_max - low_min)\n",
    "    klines['D'] = klines['K'].rolling(window=d_period).mean()\n",
    "    klines['J'] = 3 * klines['K'] - 2 * klines['D']\n",
    "    return klines[['K', 'D', 'J']]"
   ]
  },
  {
   "cell_type": "code",
   "execution_count": 7,
   "metadata": {},
   "outputs": [],
   "source": [
    "def calculate_macd(klines, fast_period=12, slow_period=26, signal_period=9):\n",
    "    \"\"\"\n",
    "    计算 Moving Average Convergence Divergence (MACD)\n",
    "    :param klines: 数据帧，包含 'Close' 列\n",
    "    :param fast_period: 快速EMA周期（默认12）\n",
    "    :param slow_period: 慢速EMA周期（默认26）\n",
    "    :param signal_period: 信号线周期（默认9）\n",
    "    :return: 包含MACD, Signal, Histogram的 DataFrame\n",
    "    \"\"\"\n",
    "    klines['EMA_Fast'] = klines['Close'].ewm(span=fast_period, adjust=False).mean()\n",
    "    klines['EMA_Slow'] = klines['Close'].ewm(span=slow_period, adjust=False).mean()\n",
    "    klines['MACD'] = klines['EMA_Fast'] - klines['EMA_Slow']\n",
    "    klines['Signal'] = klines['MACD'].ewm(span=signal_period, adjust=False).mean()\n",
    "    klines['Histogram'] = klines['MACD'] - klines['Signal']\n",
    "    return klines[['MACD', 'Signal', 'Histogram']]"
   ]
  },
  {
   "cell_type": "code",
   "execution_count": 8,
   "metadata": {},
   "outputs": [
    {
     "ename": "FileNotFoundError",
     "evalue": "[Errno 2] No such file or directory: 'BTCUSDT+2h.csv'",
     "output_type": "error",
     "traceback": [
      "\u001b[1;31m---------------------------------------------------------------------------\u001b[0m",
      "\u001b[1;31mFileNotFoundError\u001b[0m                         Traceback (most recent call last)",
      "Cell \u001b[1;32mIn[8], line 5\u001b[0m\n\u001b[0;32m      3\u001b[0m \u001b[38;5;66;03m# 读取加密货币历史数据 (以2小时级别为例)\u001b[39;00m\n\u001b[0;32m      4\u001b[0m file_path \u001b[38;5;241m=\u001b[39m \u001b[38;5;124m'\u001b[39m\u001b[38;5;124mBTCUSDT+2h.csv\u001b[39m\u001b[38;5;124m'\u001b[39m  \u001b[38;5;66;03m# 你的数据文件路径\u001b[39;00m\n\u001b[1;32m----> 5\u001b[0m klines \u001b[38;5;241m=\u001b[39m pd\u001b[38;5;241m.\u001b[39mread_csv(file_path, parse_dates\u001b[38;5;241m=\u001b[39m[\u001b[38;5;124m'\u001b[39m\u001b[38;5;124mtime\u001b[39m\u001b[38;5;124m'\u001b[39m], index_col\u001b[38;5;241m=\u001b[39m\u001b[38;5;124m'\u001b[39m\u001b[38;5;124mtime\u001b[39m\u001b[38;5;124m'\u001b[39m)\n\u001b[0;32m      7\u001b[0m \u001b[38;5;66;03m# 计算各个指标\u001b[39;00m\n\u001b[0;32m      8\u001b[0m klines_dc \u001b[38;5;241m=\u001b[39m calculate_dc(klines, period\u001b[38;5;241m=\u001b[39m\u001b[38;5;241m120\u001b[39m)  \u001b[38;5;66;03m# DC\u001b[39;00m\n",
      "File \u001b[1;32m~\\AppData\\Roaming\\Python\\Python311\\site-packages\\pandas\\io\\parsers\\readers.py:1026\u001b[0m, in \u001b[0;36mread_csv\u001b[1;34m(filepath_or_buffer, sep, delimiter, header, names, index_col, usecols, dtype, engine, converters, true_values, false_values, skipinitialspace, skiprows, skipfooter, nrows, na_values, keep_default_na, na_filter, verbose, skip_blank_lines, parse_dates, infer_datetime_format, keep_date_col, date_parser, date_format, dayfirst, cache_dates, iterator, chunksize, compression, thousands, decimal, lineterminator, quotechar, quoting, doublequote, escapechar, comment, encoding, encoding_errors, dialect, on_bad_lines, delim_whitespace, low_memory, memory_map, float_precision, storage_options, dtype_backend)\u001b[0m\n\u001b[0;32m   1013\u001b[0m kwds_defaults \u001b[38;5;241m=\u001b[39m _refine_defaults_read(\n\u001b[0;32m   1014\u001b[0m     dialect,\n\u001b[0;32m   1015\u001b[0m     delimiter,\n\u001b[1;32m   (...)\u001b[0m\n\u001b[0;32m   1022\u001b[0m     dtype_backend\u001b[38;5;241m=\u001b[39mdtype_backend,\n\u001b[0;32m   1023\u001b[0m )\n\u001b[0;32m   1024\u001b[0m kwds\u001b[38;5;241m.\u001b[39mupdate(kwds_defaults)\n\u001b[1;32m-> 1026\u001b[0m \u001b[38;5;28;01mreturn\u001b[39;00m _read(filepath_or_buffer, kwds)\n",
      "File \u001b[1;32m~\\AppData\\Roaming\\Python\\Python311\\site-packages\\pandas\\io\\parsers\\readers.py:620\u001b[0m, in \u001b[0;36m_read\u001b[1;34m(filepath_or_buffer, kwds)\u001b[0m\n\u001b[0;32m    617\u001b[0m _validate_names(kwds\u001b[38;5;241m.\u001b[39mget(\u001b[38;5;124m\"\u001b[39m\u001b[38;5;124mnames\u001b[39m\u001b[38;5;124m\"\u001b[39m, \u001b[38;5;28;01mNone\u001b[39;00m))\n\u001b[0;32m    619\u001b[0m \u001b[38;5;66;03m# Create the parser.\u001b[39;00m\n\u001b[1;32m--> 620\u001b[0m parser \u001b[38;5;241m=\u001b[39m TextFileReader(filepath_or_buffer, \u001b[38;5;241m*\u001b[39m\u001b[38;5;241m*\u001b[39mkwds)\n\u001b[0;32m    622\u001b[0m \u001b[38;5;28;01mif\u001b[39;00m chunksize \u001b[38;5;129;01mor\u001b[39;00m iterator:\n\u001b[0;32m    623\u001b[0m     \u001b[38;5;28;01mreturn\u001b[39;00m parser\n",
      "File \u001b[1;32m~\\AppData\\Roaming\\Python\\Python311\\site-packages\\pandas\\io\\parsers\\readers.py:1620\u001b[0m, in \u001b[0;36mTextFileReader.__init__\u001b[1;34m(self, f, engine, **kwds)\u001b[0m\n\u001b[0;32m   1617\u001b[0m     \u001b[38;5;28mself\u001b[39m\u001b[38;5;241m.\u001b[39moptions[\u001b[38;5;124m\"\u001b[39m\u001b[38;5;124mhas_index_names\u001b[39m\u001b[38;5;124m\"\u001b[39m] \u001b[38;5;241m=\u001b[39m kwds[\u001b[38;5;124m\"\u001b[39m\u001b[38;5;124mhas_index_names\u001b[39m\u001b[38;5;124m\"\u001b[39m]\n\u001b[0;32m   1619\u001b[0m \u001b[38;5;28mself\u001b[39m\u001b[38;5;241m.\u001b[39mhandles: IOHandles \u001b[38;5;241m|\u001b[39m \u001b[38;5;28;01mNone\u001b[39;00m \u001b[38;5;241m=\u001b[39m \u001b[38;5;28;01mNone\u001b[39;00m\n\u001b[1;32m-> 1620\u001b[0m \u001b[38;5;28mself\u001b[39m\u001b[38;5;241m.\u001b[39m_engine \u001b[38;5;241m=\u001b[39m \u001b[38;5;28mself\u001b[39m\u001b[38;5;241m.\u001b[39m_make_engine(f, \u001b[38;5;28mself\u001b[39m\u001b[38;5;241m.\u001b[39mengine)\n",
      "File \u001b[1;32m~\\AppData\\Roaming\\Python\\Python311\\site-packages\\pandas\\io\\parsers\\readers.py:1880\u001b[0m, in \u001b[0;36mTextFileReader._make_engine\u001b[1;34m(self, f, engine)\u001b[0m\n\u001b[0;32m   1878\u001b[0m     \u001b[38;5;28;01mif\u001b[39;00m \u001b[38;5;124m\"\u001b[39m\u001b[38;5;124mb\u001b[39m\u001b[38;5;124m\"\u001b[39m \u001b[38;5;129;01mnot\u001b[39;00m \u001b[38;5;129;01min\u001b[39;00m mode:\n\u001b[0;32m   1879\u001b[0m         mode \u001b[38;5;241m+\u001b[39m\u001b[38;5;241m=\u001b[39m \u001b[38;5;124m\"\u001b[39m\u001b[38;5;124mb\u001b[39m\u001b[38;5;124m\"\u001b[39m\n\u001b[1;32m-> 1880\u001b[0m \u001b[38;5;28mself\u001b[39m\u001b[38;5;241m.\u001b[39mhandles \u001b[38;5;241m=\u001b[39m get_handle(\n\u001b[0;32m   1881\u001b[0m     f,\n\u001b[0;32m   1882\u001b[0m     mode,\n\u001b[0;32m   1883\u001b[0m     encoding\u001b[38;5;241m=\u001b[39m\u001b[38;5;28mself\u001b[39m\u001b[38;5;241m.\u001b[39moptions\u001b[38;5;241m.\u001b[39mget(\u001b[38;5;124m\"\u001b[39m\u001b[38;5;124mencoding\u001b[39m\u001b[38;5;124m\"\u001b[39m, \u001b[38;5;28;01mNone\u001b[39;00m),\n\u001b[0;32m   1884\u001b[0m     compression\u001b[38;5;241m=\u001b[39m\u001b[38;5;28mself\u001b[39m\u001b[38;5;241m.\u001b[39moptions\u001b[38;5;241m.\u001b[39mget(\u001b[38;5;124m\"\u001b[39m\u001b[38;5;124mcompression\u001b[39m\u001b[38;5;124m\"\u001b[39m, \u001b[38;5;28;01mNone\u001b[39;00m),\n\u001b[0;32m   1885\u001b[0m     memory_map\u001b[38;5;241m=\u001b[39m\u001b[38;5;28mself\u001b[39m\u001b[38;5;241m.\u001b[39moptions\u001b[38;5;241m.\u001b[39mget(\u001b[38;5;124m\"\u001b[39m\u001b[38;5;124mmemory_map\u001b[39m\u001b[38;5;124m\"\u001b[39m, \u001b[38;5;28;01mFalse\u001b[39;00m),\n\u001b[0;32m   1886\u001b[0m     is_text\u001b[38;5;241m=\u001b[39mis_text,\n\u001b[0;32m   1887\u001b[0m     errors\u001b[38;5;241m=\u001b[39m\u001b[38;5;28mself\u001b[39m\u001b[38;5;241m.\u001b[39moptions\u001b[38;5;241m.\u001b[39mget(\u001b[38;5;124m\"\u001b[39m\u001b[38;5;124mencoding_errors\u001b[39m\u001b[38;5;124m\"\u001b[39m, \u001b[38;5;124m\"\u001b[39m\u001b[38;5;124mstrict\u001b[39m\u001b[38;5;124m\"\u001b[39m),\n\u001b[0;32m   1888\u001b[0m     storage_options\u001b[38;5;241m=\u001b[39m\u001b[38;5;28mself\u001b[39m\u001b[38;5;241m.\u001b[39moptions\u001b[38;5;241m.\u001b[39mget(\u001b[38;5;124m\"\u001b[39m\u001b[38;5;124mstorage_options\u001b[39m\u001b[38;5;124m\"\u001b[39m, \u001b[38;5;28;01mNone\u001b[39;00m),\n\u001b[0;32m   1889\u001b[0m )\n\u001b[0;32m   1890\u001b[0m \u001b[38;5;28;01massert\u001b[39;00m \u001b[38;5;28mself\u001b[39m\u001b[38;5;241m.\u001b[39mhandles \u001b[38;5;129;01mis\u001b[39;00m \u001b[38;5;129;01mnot\u001b[39;00m \u001b[38;5;28;01mNone\u001b[39;00m\n\u001b[0;32m   1891\u001b[0m f \u001b[38;5;241m=\u001b[39m \u001b[38;5;28mself\u001b[39m\u001b[38;5;241m.\u001b[39mhandles\u001b[38;5;241m.\u001b[39mhandle\n",
      "File \u001b[1;32m~\\AppData\\Roaming\\Python\\Python311\\site-packages\\pandas\\io\\common.py:873\u001b[0m, in \u001b[0;36mget_handle\u001b[1;34m(path_or_buf, mode, encoding, compression, memory_map, is_text, errors, storage_options)\u001b[0m\n\u001b[0;32m    868\u001b[0m \u001b[38;5;28;01melif\u001b[39;00m \u001b[38;5;28misinstance\u001b[39m(handle, \u001b[38;5;28mstr\u001b[39m):\n\u001b[0;32m    869\u001b[0m     \u001b[38;5;66;03m# Check whether the filename is to be opened in binary mode.\u001b[39;00m\n\u001b[0;32m    870\u001b[0m     \u001b[38;5;66;03m# Binary mode does not support 'encoding' and 'newline'.\u001b[39;00m\n\u001b[0;32m    871\u001b[0m     \u001b[38;5;28;01mif\u001b[39;00m ioargs\u001b[38;5;241m.\u001b[39mencoding \u001b[38;5;129;01mand\u001b[39;00m \u001b[38;5;124m\"\u001b[39m\u001b[38;5;124mb\u001b[39m\u001b[38;5;124m\"\u001b[39m \u001b[38;5;129;01mnot\u001b[39;00m \u001b[38;5;129;01min\u001b[39;00m ioargs\u001b[38;5;241m.\u001b[39mmode:\n\u001b[0;32m    872\u001b[0m         \u001b[38;5;66;03m# Encoding\u001b[39;00m\n\u001b[1;32m--> 873\u001b[0m         handle \u001b[38;5;241m=\u001b[39m \u001b[38;5;28mopen\u001b[39m(\n\u001b[0;32m    874\u001b[0m             handle,\n\u001b[0;32m    875\u001b[0m             ioargs\u001b[38;5;241m.\u001b[39mmode,\n\u001b[0;32m    876\u001b[0m             encoding\u001b[38;5;241m=\u001b[39mioargs\u001b[38;5;241m.\u001b[39mencoding,\n\u001b[0;32m    877\u001b[0m             errors\u001b[38;5;241m=\u001b[39merrors,\n\u001b[0;32m    878\u001b[0m             newline\u001b[38;5;241m=\u001b[39m\u001b[38;5;124m\"\u001b[39m\u001b[38;5;124m\"\u001b[39m,\n\u001b[0;32m    879\u001b[0m         )\n\u001b[0;32m    880\u001b[0m     \u001b[38;5;28;01melse\u001b[39;00m:\n\u001b[0;32m    881\u001b[0m         \u001b[38;5;66;03m# Binary mode\u001b[39;00m\n\u001b[0;32m    882\u001b[0m         handle \u001b[38;5;241m=\u001b[39m \u001b[38;5;28mopen\u001b[39m(handle, ioargs\u001b[38;5;241m.\u001b[39mmode)\n",
      "\u001b[1;31mFileNotFoundError\u001b[0m: [Errno 2] No such file or directory: 'BTCUSDT+2h.csv'"
     ]
    }
   ],
   "source": [
    "import pandas as pd\n",
    "\n",
    "# 读取加密货币历史数据 (以2小时级别为例)\n",
    "file_path = 'BTCUSDT+2h.csv'  # 你的数据文件路径\n",
    "klines = pd.read_csv(file_path, parse_dates=['time'], index_col='time')\n",
    "\n",
    "# 计算各个指标\n",
    "klines_dc = calculate_dc(klines, period=120)  # DC\n",
    "klines_kc = calculate_kc(klines, period=20, multiplier=1)  # KC\n",
    "klines_ich = calculate_ichimoku(klines, conversion_line_period=9, base_line_period=26, leading_span_b_period=52)  # Ichimoku\n",
    "klines_ema = calculate_ema(klines, period=13)  # EMA\n",
    "klines_ma = calculate_ma(klines, period=7)  # MA\n",
    "klines_kdj = calculate_kdj(klines, k_period=30, d_period=30, j_period=30)  # KDJ\n",
    "klines_macd = calculate_macd(klines, fast_period=20, slow_period=60, signal_period=16)  # MACD\n",
    "\n",
    "# 合并所有指标数据\n",
    "klines = pd.concat([klines, klines_dc, klines_kc, klines_ich, klines_ema, klines_ma, klines_kdj, klines_macd], axis=1)\n",
    "\n",
    "# 导出数据到CSV文件\n",
    "output_file_path = 'BTCUSDT_with_indicators_2h.csv'  # 设定文件路径\n",
    "klines.to_csv(output_file_path)\n",
    "\n",
    "print(f\"Data with indicators exported to {output_file_path}\")\n",
    "klines"
   ]
  },
  {
   "cell_type": "code",
   "execution_count": null,
   "metadata": {},
   "outputs": [],
   "source": []
  }
 ],
 "metadata": {
  "kernelspec": {
   "display_name": "base",
   "language": "python",
   "name": "python3"
  },
  "language_info": {
   "codemirror_mode": {
    "name": "ipython",
    "version": 3
   },
   "file_extension": ".py",
   "mimetype": "text/x-python",
   "name": "python",
   "nbconvert_exporter": "python",
   "pygments_lexer": "ipython3",
   "version": "3.11.7"
  }
 },
 "nbformat": 4,
 "nbformat_minor": 2
}
